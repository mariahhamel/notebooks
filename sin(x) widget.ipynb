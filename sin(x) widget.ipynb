{
 "metadata": {
  "name": "",
  "signature": "sha256:c11c82dbb6a9e4d0311573482072bfcf462c1b9b95ffedd40014a46babf68b74"
 },
 "nbformat": 3,
 "nbformat_minor": 0,
 "worksheets": [
  {
   "cells": [
    {
     "cell_type": "code",
     "collapsed": false,
     "input": [
      "from plotly.widgets import GraphWidget\n",
      "\n",
      "from IPython.html import widgets \n",
      "from IPython.display import display, clear_output\n",
      "import numpy as np\n"
     ],
     "language": "python",
     "metadata": {},
     "outputs": [],
     "prompt_number": 4
    },
    {
     "cell_type": "code",
     "collapsed": false,
     "input": [
      "g = GraphWidget('https://plot.ly/~mariahh/1369')\n",
      "x = np.linspace(0,2*np.pi,num=100)\n",
      "\n",
      "\n",
      "class y_data:\n",
      "    def __init__(self):\n",
      "        self.y = np.sin(x)\n",
      "    \n",
      "    def on_y_change(self, name, old_value, new_value):\n",
      "        self.y = np.sin(x*new_value)\n",
      "        self.replot()\n",
      "        \n",
      "    def replot(self):\n",
      "        g.restyle({ 'y': [self.y] })\n",
      "\n",
      "y_slider = widgets.FloatSliderWidget(min=0,max=3,value=1,step=0.05)\n",
      "y_slider.description = 'n'\n",
      "y_slider.value = 1\n",
      "\n",
      "y_state = y_data()\n",
      "y_slider.on_trait_change(y_state.on_y_change, 'value')"
     ],
     "language": "python",
     "metadata": {},
     "outputs": [],
     "prompt_number": 5
    },
    {
     "cell_type": "code",
     "collapsed": false,
     "input": [
      "display(y_slider)\n",
      "display(g)\n"
     ],
     "language": "python",
     "metadata": {},
     "outputs": [],
     "prompt_number": 6
    },
    {
     "cell_type": "code",
     "collapsed": false,
     "input": [],
     "language": "python",
     "metadata": {},
     "outputs": []
    }
   ],
   "metadata": {}
  }
 ]
}