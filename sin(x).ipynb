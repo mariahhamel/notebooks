{
 "metadata": {
  "name": "",
  "signature": "sha256:bfcb5f73b2fcaf48e4b8ebeddbc906ab92bcdafead899403fd919ff37f251609"
 },
 "nbformat": 3,
 "nbformat_minor": 0,
 "worksheets": [
  {
   "cells": [
    {
     "cell_type": "code",
     "collapsed": false,
     "input": [
      "# To communicate with Plotly's server, sign in with credentials file.\n",
      "# Once you have set up a credentials file, this automatically signs you in.\n",
      "# It also gives us access to things like py.plot and py.iplot\n",
      "import plotly.plotly as py\n",
      "\n",
      "# Graph objects to piece together plots.\n",
      "from plotly.graph_objs import *"
     ],
     "language": "python",
     "metadata": {},
     "outputs": [],
     "prompt_number": 1
    },
    {
     "cell_type": "code",
     "collapsed": false,
     "input": [
      "# We import some packages for math.\n",
      "import numpy as np"
     ],
     "language": "python",
     "metadata": {},
     "outputs": [],
     "prompt_number": 2
    },
    {
     "cell_type": "code",
     "collapsed": false,
     "input": [
      "x = np.linspace(0,2*np.pi,num=100)\n",
      "y = np.sin(x)\n",
      "\n",
      "trace0 = Scatter(x=x, y=y, name=\"Sine\")\n",
      "\n",
      "\n",
      "\n"
     ],
     "language": "python",
     "metadata": {},
     "outputs": [],
     "prompt_number": 3
    },
    {
     "cell_type": "code",
     "collapsed": false,
     "input": [
      "\n",
      "py.iplot([trace0])\n"
     ],
     "language": "python",
     "metadata": {},
     "outputs": [
      {
       "html": [
        "<iframe id=\"igraph\" scrolling=\"no\" style=\"border:none;\"seamless=\"seamless\" src=\"https://plot.ly/~mariahh/1791.embed\" height=\"525\" width=\"100%\"></iframe>"
       ],
       "metadata": {},
       "output_type": "pyout",
       "prompt_number": 4,
       "text": [
        "<plotly.tools.PlotlyDisplay at 0x1046856d0>"
       ]
      }
     ],
     "prompt_number": 4
    },
    {
     "cell_type": "code",
     "collapsed": false,
     "input": [],
     "language": "python",
     "metadata": {},
     "outputs": []
    }
   ],
   "metadata": {}
  }
 ]
}